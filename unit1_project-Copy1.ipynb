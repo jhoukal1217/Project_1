{
 "cells": [
  {
   "cell_type": "markdown",
   "metadata": {},
   "source": [
    "<img src=\"http://imgur.com/1ZcRyrc.png\" style=\"float: left; margin: 20px; height: 55px\">\n",
    "\n",
    "# Project 1: Python Coding Exercises\n",
    "\n",
    "_Authors: Joseph Nelson (DC) _\n",
    "\n",
    "---"
   ]
  },
  {
   "cell_type": "markdown",
   "metadata": {},
   "source": [
    "The following code challenges are drawn from common exercises used in technical interviews.\n",
    "\n",
    "Please note that there may be several ways to approach each challenge. If you get stuck, try mapping out your approach in pseudocode first. Finally, while solutions to problems like these may be found online, remember that if you copy/paste code that you can't explain, you'll be missing out on the point of the project. The only way to truly learn a new skill is through practice, trial, and error - we can only help you improve by understanding where you are having trouble."
   ]
  },
  {
   "cell_type": "markdown",
   "metadata": {},
   "source": [
    "### Challenge 1: Largest Palindrome\n",
    "A palindromic number reads the same both ways. For example, 1234321 is a palindrome. The largest palindrome made from the product of two two-digit numbers is 9009 = 91 × 99. Find the largest palindrome made from the product of two three-digit numbers. Afterward, write a brief explanation walking through your code's logic in markdown."
   ]
  },
  {
   "cell_type": "code",
   "execution_count": 82,
   "metadata": {},
   "outputs": [
    {
     "name": "stdout",
     "output_type": "stream",
     "text": [
      "906609\n"
     ]
    }
   ],
   "source": [
    "#NB for all: I am using Python 2 because that's what my IT department allowed me to install. \n",
    "#I'm loosely familiar with the differences between 2 and 3, though. \n",
    "\n",
    "def palindromer(x):\n",
    "    return int(str(x)[::-1]) == x\n",
    "\n",
    "lg = 0\n",
    "for i in range(999, 99, -1): #incrementing backwards\n",
    "    for j in range(i, 99, -1):\n",
    "        prod = i * j\n",
    "        if palindromer(prod) and prod > lg:\n",
    "            lg = prod\n",
    "\n",
    "print(lg)"
   ]
  },
  {
   "cell_type": "markdown",
   "metadata": {},
   "source": [
    "**Markdown Explanation:**\n",
    "This solution relies on a nested for loop to multiply an outer variable (any three digit integer) by an inner variable (a three digit integer that's 1 less than the former). \n",
    "\n",
    "These are then iteratively assigned to the lg variable based on two things: whether or not the number is a palindrome (by passing the product through a palindromer function, which just returns TRUE||FALSE depending on whether the input and its reverse are identical) and whether or not the product is greater than the current lg value. Lg is then printed once the loop concludes. "
   ]
  },
  {
   "cell_type": "markdown",
   "metadata": {},
   "source": [
    "\n",
    "### Challenge 2: Summation of Primes\n",
    "The sum of the primes below 10 is 2 + 3 + 5 + 7 = 17. Find the sum of all the primes below 2,000. Afterward, write a brief explanation walking through your code's logic in markdown."
   ]
  },
  {
   "cell_type": "code",
   "execution_count": 95,
   "metadata": {},
   "outputs": [
    {
     "name": "stdout",
     "output_type": "stream",
     "text": [
      "The sum of all primes below 2,000 is: 277050\n"
     ]
    }
   ],
   "source": [
    "def sum_prime(x):\n",
    "    primes = []\n",
    "    for x in xrange(2, x): \n",
    "        for prime in primes:\n",
    "            if x % prime == 0: break     \n",
    "        else: primes.append(x)       \n",
    "    return sum(primes)\n",
    "\n",
    "print('The sum of all primes below 2,000 is: ' + \n",
    "      str(\n",
    "          sum_prime(2000)))"
   ]
  },
  {
   "cell_type": "markdown",
   "metadata": {},
   "source": [
    "**Markdown Explanation:**\n",
    "This function loops over all values from 2 to the input value. It appends a value to the primes list as long as it's not divisible by an item already appended to the primes list. \n",
    "\n",
    "Finally, I simply print a string that includes the output of the function--not for any particular reason, but, hey, it seemed like a nice touch. "
   ]
  },
  {
   "cell_type": "markdown",
   "metadata": {},
   "source": []
  },
  {
   "cell_type": "markdown",
   "metadata": {},
   "source": [
    "### Challenge 3: Multiples of 3 and 5\n",
    "If we list all of the natural numbers below 10 that are multiples of 3 or 5, we get 3, 5, 6, and 9. The sum of these multiples is 23. Find the sum of all the multiples of 3 or 5 below 1,000. Afterward, write a brief explanation walking through your code's logic in markdown."
   ]
  },
  {
   "cell_type": "code",
   "execution_count": 62,
   "metadata": {},
   "outputs": [
    {
     "name": "stdout",
     "output_type": "stream",
     "text": [
      "233168\n"
     ]
    }
   ],
   "source": [
    "mlt = [i for i in range(1000) if i % 3 == 0 or i % 5 == 0]\n",
    "\n",
    "print(\n",
    "    str(\n",
    "        sum(\n",
    "            mlt)\n",
    "    )) #I'm not sure if this formatting is odd for Python; I use it often in Apex-related work. \n",
    "            \n",
    "\n"
   ]
  },
  {
   "cell_type": "markdown",
   "metadata": {},
   "source": [
    "**Markdown explanation:** \n",
    "Here I've just assigned a subset of all values between 0 and 999 inclusive that are divisible by 3 or 5 to a variable, all of which I then sum and print as a string. "
   ]
  },
  {
   "cell_type": "markdown",
   "metadata": {},
   "source": []
  },
  {
   "cell_type": "markdown",
   "metadata": {},
   "source": [
    "### Challenge 4: String Compressor\n",
    "Implement a method to perform basic string compression using the counts of repeated characters. (This is called run-length encoding.) For example, the string \"aabcccccaaa\" would become a2b1c5a3. If the “compressed” string would not become smaller than the original string, your method should return the original string. You can assume the string has only uppercase and lowercase letters (a–z). Specify whether your solution is case sensitive or case insensitive and what you would need to change to make it the other. Afterward, write a brief explanation walking through your code's logic in markdown."
   ]
  },
  {
   "cell_type": "code",
   "execution_count": 70,
   "metadata": {},
   "outputs": [
    {
     "name": "stdout",
     "output_type": "stream",
     "text": [
      "a1b2c1d1e1f4\n",
      "abcde\n"
     ]
    }
   ],
   "source": [
    "from collections import OrderedDict\n",
    "\n",
    "def wordcounter(x): \n",
    "    dc = OrderedDict.fromkeys(x.lower(), 0) #using lower method for case-insensitivty \n",
    "    junk = \"\"\n",
    "    for ch in x.lower(): #using lower method for case-insensitivty \n",
    "        dc[ch] += 1\n",
    "    \n",
    "    if((len(dc))<len(x)): #I assume len() allows us to measure the amount of KV pairs rather than each discrete item\n",
    "        for i, j in dc.iteritems():\n",
    "            junk = junk + i + str(j)\n",
    "        return junk\n",
    "    else: return x\n",
    "        \n",
    "print(wordcounter(\"abBcdeffFf\"))\n",
    "print(wordcounter(\"abcde\"))"
   ]
  },
  {
   "cell_type": "markdown",
   "metadata": {},
   "source": [
    "**Markdown Explanation: \n",
    "\n",
    "For this challenge, I've created a dictionary to store both the character of my input string as well as the count value. Then, I loop through the contents of my dictionary and return a new string that's just those key-value pairs. \n",
    "\n",
    "I decided to make this case-insensitive using the lower() method on my input string. Removing this method would make the function case-sensitive. \n",
    "\n",
    "*Finally*, this function returns the original string if, and only if, the length of the compressed string (i.e. the count of KV pairs in the dictionary) isn't less than the length of the input string. I've included two examples for demonstration. "
   ]
  },
  {
   "cell_type": "markdown",
   "metadata": {},
   "source": [
    "### Challenge 5: FizzBuzz\n",
    "\n",
    "Write a program that prints all of the numbers from 1 to 100. For multiples of 3, instead of the number, print \"Fizz;\" for multiples of 5, print \"Buzz.\" For numbers that are multiples of both 3 and 5, print \"FizzBuzz.\" Afterward, write a brief explanation walking through your code's logic in markdown."
   ]
  },
  {
   "cell_type": "code",
   "execution_count": 98,
   "metadata": {},
   "outputs": [
    {
     "name": "stdout",
     "output_type": "stream",
     "text": [
      "1\n",
      "2\n",
      "Fizz\n",
      "4\n",
      "Buzz\n",
      "Fizz\n",
      "7\n",
      "8\n",
      "Fizz\n",
      "Buzz\n",
      "11\n",
      "Fizz\n",
      "13\n",
      "14\n",
      "FizzBuzz\n",
      "16\n",
      "17\n",
      "Fizz\n",
      "19\n",
      "Buzz\n",
      "Fizz\n",
      "22\n",
      "23\n",
      "Fizz\n",
      "Buzz\n",
      "26\n",
      "Fizz\n",
      "28\n",
      "29\n",
      "FizzBuzz\n",
      "31\n",
      "32\n",
      "Fizz\n",
      "34\n",
      "Buzz\n",
      "Fizz\n",
      "37\n",
      "38\n",
      "Fizz\n",
      "Buzz\n",
      "41\n",
      "Fizz\n",
      "43\n",
      "44\n",
      "FizzBuzz\n",
      "46\n",
      "47\n",
      "Fizz\n",
      "49\n",
      "Buzz\n",
      "Fizz\n",
      "52\n",
      "53\n",
      "Fizz\n",
      "Buzz\n",
      "56\n",
      "Fizz\n",
      "58\n",
      "59\n",
      "FizzBuzz\n",
      "61\n",
      "62\n",
      "Fizz\n",
      "64\n",
      "Buzz\n",
      "Fizz\n",
      "67\n",
      "68\n",
      "Fizz\n",
      "Buzz\n",
      "71\n",
      "Fizz\n",
      "73\n",
      "74\n",
      "FizzBuzz\n",
      "76\n",
      "77\n",
      "Fizz\n",
      "79\n",
      "Buzz\n",
      "Fizz\n",
      "82\n",
      "83\n",
      "Fizz\n",
      "Buzz\n",
      "86\n",
      "Fizz\n",
      "88\n",
      "89\n",
      "FizzBuzz\n",
      "91\n",
      "92\n",
      "Fizz\n",
      "94\n",
      "Buzz\n",
      "Fizz\n",
      "97\n",
      "98\n",
      "Fizz\n",
      "Buzz\n"
     ]
    }
   ],
   "source": [
    "def fizz_buzzer(nums):\n",
    "      \n",
    "    for num in xrange(1, nums+1): #I'm not totally sure I know what the difference between range and xrange is\n",
    "        if num % 3 == 0 and num % 5 == 0: #except that xrange seems to use fewer resources.\n",
    "            print(\"FizzBuzz\")\n",
    "        elif num % 3 == 0:\n",
    "            print(\"Fizz\")\n",
    "        elif num % 5 == 0: #is elif the \"tidiest\" way to handle this sequence?\n",
    "            print(\"Buzz\")\n",
    "        else:\n",
    "            print(str(num))\n",
    "fizz_buzzer(100)"
   ]
  },
  {
   "cell_type": "markdown",
   "metadata": {},
   "source": [
    "**Markdown Explanation: \n",
    "\n",
    "For the fifth challenge, I wrote another function that simply iterates through all values between 1 and the input value (mutatis mutandis, to make an input of e.g. 100 inclusive). Using the modulo operator to determine remainders, I then return either Fizz, Buzz, Fizzbuzz, or the string value of the loop item. "
   ]
  }
 ],
 "metadata": {
  "anaconda-cloud": {},
  "kernelspec": {
   "display_name": "Python 2",
   "language": "python",
   "name": "python2"
  },
  "language_info": {
   "codemirror_mode": {
    "name": "ipython",
    "version": 2
   },
   "file_extension": ".py",
   "mimetype": "text/x-python",
   "name": "python",
   "nbconvert_exporter": "python",
   "pygments_lexer": "ipython2",
   "version": "2.7.15"
  }
 },
 "nbformat": 4,
 "nbformat_minor": 2
}
